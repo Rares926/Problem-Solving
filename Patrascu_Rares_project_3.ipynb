{
 "cells": [
  {
   "cell_type": "code",
   "execution_count": 1,
   "metadata": {},
   "outputs": [],
   "source": [
    "import random"
   ]
  },
  {
   "cell_type": "markdown",
   "metadata": {},
   "source": [
    "___"
   ]
  },
  {
   "cell_type": "markdown",
   "metadata": {},
   "source": [
    "### Utility methods"
   ]
  },
  {
   "cell_type": "code",
   "execution_count": 7,
   "metadata": {},
   "outputs": [],
   "source": [
    "# Modeling the problem\n",
    "def init_board_state(n):\n",
    "    \"\"\"\n",
    "    Generates a board of queens with one queen per column.\n",
    "    Each queen is randomly assigned to a row.\n",
    "    We also keep the state of the queens in a List where each\n",
    "      value is the queen position on the column.\n",
    "\n",
    "    Args:\n",
    "        n (int): Total number of queens\n",
    "\n",
    "    Returns:\n",
    "        (List, List[List[int]])\n",
    "    \"\"\"\n",
    "    state = [0] * n\n",
    "    board = [[0 for _ in range(n)] for _ in range(n)]\n",
    "\n",
    "    for i in range(n):\n",
    "        state[i] = random.randint(0, n-1)\n",
    "        board[state[i]][i] = 1\n",
    "    \n",
    "    return state, board"
   ]
  },
  {
   "cell_type": "code",
   "execution_count": 3,
   "metadata": {},
   "outputs": [],
   "source": [
    "def print_board(board):\n",
    "    \"\"\"\n",
    "    Print the chessboard in a visually appealing way, using Unicode characters.\n",
    "    'Q' represents queens, and '·' empty spaces.\n",
    "    \n",
    "    Args:\n",
    "        board (list of list of int): The chessboard to be printed, with 1s for queens and 0s for empty spaces.\n",
    "    \"\"\"\n",
    "    top_border = '┌' + '───┬' * (len(board) - 1) + '───┐'\n",
    "    divider = '├' + '───┼' * (len(board) - 1) + '───┤'\n",
    "    bottom_border = '└' + '───┴' * (len(board) - 1) + '───┘'\n",
    "\n",
    "    print(top_border)\n",
    "    for i, row in enumerate(board):\n",
    "        # Use 'Q' for queens and a middle dot for empty spaces, separated by vertical lines\n",
    "        print('│ ' + ' │ '.join('Q' if cell == 1 else '·' for cell in row) + ' │')\n",
    "        if i < len(board) - 1:\n",
    "            print(divider)\n",
    "    print(bottom_border)"
   ]
  },
  {
   "cell_type": "markdown",
   "metadata": {},
   "source": [
    "___\n"
   ]
  },
  {
   "cell_type": "code",
   "execution_count": 4,
   "metadata": {},
   "outputs": [],
   "source": [
    "def heuristic_cost(state):\n",
    "    \"\"\"\n",
    "        Number of queens that attack each other.\n",
    "        Info: \n",
    "            * in a grid, two points are on the same diagonal if\n",
    "              the vertical distance between them equals the horizontal distance.\n",
    "            * we don't check for the same column because we have only 1 queen per column\n",
    "    \"\"\"\n",
    "    n = len(state)\n",
    "    attacking = 0\n",
    "\n",
    "    for i in range(n):\n",
    "        for j in range(i + 1, n):\n",
    "            # same row                  same diagonal\n",
    "            if state[i] == state[j] or abs(state[i] - state[j]) == j - i:\n",
    "                attacking += 1\n",
    "\n",
    "    return attacking"
   ]
  },
  {
   "cell_type": "code",
   "execution_count": 5,
   "metadata": {},
   "outputs": [],
   "source": [
    "def get_best_neighbour(state):\n",
    "    N = len(state)\n",
    "    \n",
    "    neighbour_state = list(state)\n",
    "\n",
    "    best_state = list(state)\n",
    "    best_score = heuristic_cost(state)\n",
    "\n",
    "    # compute cost for all possible different states\n",
    "    for q_col in range(N):\n",
    "        for q_pos_new_row in range(N):\n",
    "            if q_pos_new_row != state[q_col]:\n",
    "                neighbour_state[q_col] = q_pos_new_row\n",
    "                temp_score = heuristic_cost(neighbour_state)\n",
    "\n",
    "                if temp_score < best_score:\n",
    "                    best_state = list(neighbour_state)\n",
    "                    best_score = temp_score\n",
    "\n",
    "                neighbour_state[q_col] = state[q_col]\n",
    "\n",
    "    return best_state"
   ]
  },
  {
   "cell_type": "code",
   "execution_count": 6,
   "metadata": {},
   "outputs": [],
   "source": [
    "def random_restart_hill_climbing(state):\n",
    "    while True:\n",
    "        neighbour_state = get_best_neighbour(state)\n",
    "\n",
    "        if neighbour_state == state:\n",
    "            return state\n",
    "\n",
    "        # in case of plateou change a random queen at a random position\n",
    "        elif heuristic_cost(neighbour_state) == heuristic_cost(state):\n",
    "            neighbour_state[random.randint(0, len(state) - 1)] = random.randint(0, len(state) - 1)\n",
    "\n",
    "        state = neighbour_state"
   ]
  },
  {
   "cell_type": "code",
   "execution_count": 10,
   "metadata": {},
   "outputs": [
    {
     "name": "stdout",
     "output_type": "stream",
     "text": [
      "Initial board\n",
      "┌───┬───┬───┬───┬───┬───┬───┬───┐\n",
      "│ · │ · │ · │ · │ · │ · │ · │ · │\n",
      "├───┼───┼───┼───┼───┼───┼───┼───┤\n",
      "│ · │ · │ · │ · │ · │ · │ · │ · │\n",
      "├───┼───┼───┼───┼───┼───┼───┼───┤\n",
      "│ · │ · │ Q │ · │ Q │ Q │ · │ · │\n",
      "├───┼───┼───┼───┼───┼───┼───┼───┤\n",
      "│ · │ · │ · │ Q │ · │ · │ · │ · │\n",
      "├───┼───┼───┼───┼───┼───┼───┼───┤\n",
      "│ · │ Q │ · │ · │ · │ · │ · │ Q │\n",
      "├───┼───┼───┼───┼───┼───┼───┼───┤\n",
      "│ · │ · │ · │ · │ · │ · │ Q │ · │\n",
      "├───┼───┼───┼───┼───┼───┼───┼───┤\n",
      "│ · │ · │ · │ · │ · │ · │ · │ · │\n",
      "├───┼───┼───┼───┼───┼───┼───┼───┤\n",
      "│ Q │ · │ · │ · │ · │ · │ · │ · │\n",
      "└───┴───┴───┴───┴───┴───┴───┴───┘\n",
      "After Hill-Climbing algorithm\n",
      "┌───┬───┬───┬───┬───┬───┬───┬───┐\n",
      "│ · │ · │ · │ · │ Q │ · │ · │ · │\n",
      "├───┼───┼───┼───┼───┼───┼───┼───┤\n",
      "│ · │ · │ · │ · │ · │ · │ · │ Q │\n",
      "├───┼───┼───┼───┼───┼───┼───┼───┤\n",
      "│ · │ · │ · │ · │ · │ Q │ · │ · │\n",
      "├───┼───┼───┼───┼───┼───┼───┼───┤\n",
      "│ · │ · │ · │ Q │ · │ · │ · │ · │\n",
      "├───┼───┼───┼───┼───┼───┼───┼───┤\n",
      "│ · │ Q │ · │ · │ · │ · │ · │ · │\n",
      "├───┼───┼───┼───┼───┼───┼───┼───┤\n",
      "│ · │ · │ · │ · │ · │ · │ Q │ · │\n",
      "├───┼───┼───┼───┼───┼───┼───┼───┤\n",
      "│ · │ · │ Q │ · │ · │ · │ · │ · │\n",
      "├───┼───┼───┼───┼───┼───┼───┼───┤\n",
      "│ Q │ · │ · │ · │ · │ · │ · │ · │\n",
      "└───┴───┴───┴───┴───┴───┴───┴───┘\n"
     ]
    }
   ],
   "source": [
    "n = 8\n",
    "\n",
    "state, board = init_board_state(n)\n",
    "updated_state = random_restart_hill_climbing(state)\n",
    "print(\"Initial board\")\n",
    "print_board(board)\n",
    "\n",
    "# empty board\n",
    "board = [[0 for _ in range(n)] for _ in range(n)]\n",
    "\n",
    "for i in range(n):\n",
    "    board[updated_state[i]][i] = 1\n",
    "\n",
    "print(\"After Hill-Climbing algorithm\")\n",
    "print_board(board)"
   ]
  }
 ],
 "metadata": {
  "kernelspec": {
   "display_name": "PSS",
   "language": "python",
   "name": "python3"
  },
  "language_info": {
   "codemirror_mode": {
    "name": "ipython",
    "version": 3
   },
   "file_extension": ".py",
   "mimetype": "text/x-python",
   "name": "python",
   "nbconvert_exporter": "python",
   "pygments_lexer": "ipython3",
   "version": "3.11.8"
  }
 },
 "nbformat": 4,
 "nbformat_minor": 2
}
