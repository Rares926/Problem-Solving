{
 "cells": [
  {
   "cell_type": "markdown",
   "metadata": {},
   "source": [
    "---"
   ]
  },
  {
   "cell_type": "markdown",
   "metadata": {},
   "source": [
    "##### Method to get the score of the board\n",
    "* If we won get 1 point\n",
    "* If adversar won lose 1 point\n",
    "* If no one won score is 0 "
   ]
  },
  {
   "cell_type": "code",
   "execution_count": 1,
   "metadata": {},
   "outputs": [],
   "source": [
    "def evaluate(board, player, opponent):\n",
    "    n = len(board)\n",
    "    all_board_lines = (\n",
    "        [[board[row][idx] for idx in range(n)] for row in range(n)] +\n",
    "        [[board[idx][col] for idx in range(n)] for col in range(n)] +\n",
    "        [[board[idx][idx] for idx in range(n)]] +  # main diagonal\n",
    "        [[board[idx][n-idx-1] for idx in range(n)]]  # other diagonal\n",
    "    )\n",
    "\n",
    "    if [player]*n in all_board_lines:\n",
    "        return 1\n",
    "    elif [opponent]*n in all_board_lines:\n",
    "        return -1\n",
    "    else:\n",
    "        return 0\n"
   ]
  },
  {
   "cell_type": "markdown",
   "metadata": {},
   "source": [
    "### Min Max algorithm"
   ]
  },
  {
   "cell_type": "code",
   "execution_count": 9,
   "metadata": {},
   "outputs": [],
   "source": [
    "def minimax(board, player, opponent, max_turn) :  \n",
    "\n",
    "    n = len(board)\n",
    "\n",
    "    score = evaluate(board, player, opponent,) \n",
    "  \n",
    "    # terminal win/lose\n",
    "    if abs(score) == 1:\n",
    "        return score\n",
    "\n",
    "    # terminal draw\n",
    "    if not \"_\" in [element for row in board for element in row] : \n",
    "        return 0\n",
    "\n",
    "    best_score = -float('inf') if max_turn else float('inf')\n",
    "    current_player = player if max_turn else opponent\n",
    "    comparison_func = max if max_turn else min\n",
    "\n",
    "    for row in range(n):\n",
    "        for col in range(n):\n",
    "            if board[row][col] == '_':\n",
    "                board[row][col] = current_player\n",
    "                possible_best = minimax(board, player, opponent, not max_turn)\n",
    "                board[row][col] = '_'\n",
    "                best_score = comparison_func(best_score, possible_best)\n",
    "\n",
    "    return best_score"
   ]
  },
  {
   "cell_type": "markdown",
   "metadata": {},
   "source": [
    "##### For each cell that was not played get it's score using the minmax algoritm and play the cell that has the highest minmax score"
   ]
  },
  {
   "cell_type": "code",
   "execution_count": 4,
   "metadata": {},
   "outputs": [],
   "source": [
    "def get_best_move(board, player, opponent) :  \n",
    "\n",
    "    max_score = -float('inf')\n",
    "    best_move = (-1, -1)  \n",
    "  \n",
    "    for row in range(len(board)) :      \n",
    "        for col in range(len(board[0])) : \n",
    "          \n",
    "            if board[row][col] == '_':\n",
    "\n",
    "                board[row][col] = player \n",
    "                score = minimax(board, player, opponent, False)  \n",
    "                board[row][col] = '_'\n",
    "\n",
    "                if score > max_score:                 \n",
    "                    best_move = (row, col) \n",
    "                    max_score = score \n",
    "  \n",
    "    return best_move, max_score"
   ]
  },
  {
   "cell_type": "markdown",
   "metadata": {},
   "source": [
    "### Call on tik tac toe board "
   ]
  },
  {
   "cell_type": "markdown",
   "metadata": {},
   "source": [
    "## Board 1 - \"0\" moves"
   ]
  },
  {
   "cell_type": "code",
   "execution_count": 5,
   "metadata": {},
   "outputs": [
    {
     "name": "stdout",
     "output_type": "stream",
     "text": [
      "Best move: (2, 0).\n",
      "Move score: 1.\n"
     ]
    }
   ],
   "source": [
    "player, opponent = '0', 'x' \n",
    "\n",
    "# Driver code\n",
    "board = [ \n",
    "    [ 'x', '_', '0' ],  \n",
    "    [ '0', '0', 'x' ],  \n",
    "    [ '_', 'x', '_' ]  \n",
    "] \n",
    "\n",
    "move, score = get_best_move(board, player, opponent)\n",
    "\n",
    "print(\"Best move: {}.\".format(move))\n",
    "print(\"Move score: {}.\".format(score))"
   ]
  },
  {
   "cell_type": "markdown",
   "metadata": {},
   "source": [
    "## Board 1 - \"x\" moves"
   ]
  },
  {
   "cell_type": "code",
   "execution_count": 6,
   "metadata": {},
   "outputs": [
    {
     "name": "stdout",
     "output_type": "stream",
     "text": [
      "Best move: (2, 0).\n",
      "Move score: 0.\n"
     ]
    }
   ],
   "source": [
    "player, opponent = 'x', '0' \n",
    "\n",
    "# Driver code\n",
    "board = [ \n",
    "    [ 'x', '_', '0' ],  \n",
    "    [ '0', '0', 'x' ],  \n",
    "    [ '_', 'x', '_' ]  \n",
    "] \n",
    "\n",
    "move, score = get_best_move(board, player, opponent)\n",
    "\n",
    "print(\"Best move: {}.\".format(move))\n",
    "print(\"Move score: {}.\".format(score))"
   ]
  },
  {
   "cell_type": "markdown",
   "metadata": {},
   "source": [
    "## Board 2 - \"x\" moves"
   ]
  },
  {
   "cell_type": "code",
   "execution_count": 7,
   "metadata": {},
   "outputs": [
    {
     "name": "stdout",
     "output_type": "stream",
     "text": [
      "Best move: (2, 0).\n",
      "Move score: 1.\n"
     ]
    }
   ],
   "source": [
    "player, opponent = 'x', '0' \n",
    "\n",
    "# Driver code\n",
    "board = [ \n",
    "    [ 'x', '_', '0' ],  \n",
    "    [ '_', '0', '_' ],  \n",
    "    [ '_', '_', 'x' ]  \n",
    "] \n",
    "\n",
    "move, score = get_best_move(board, player, opponent)\n",
    "\n",
    "print(\"Best move: {}.\".format(move))\n",
    "print(\"Move score: {}.\".format(score))"
   ]
  },
  {
   "cell_type": "markdown",
   "metadata": {},
   "source": [
    "## Board 3 - \"x\" moves"
   ]
  },
  {
   "cell_type": "code",
   "execution_count": 8,
   "metadata": {},
   "outputs": [
    {
     "name": "stdout",
     "output_type": "stream",
     "text": [
      "Best move: (0, 1).\n",
      "Move score: -1.\n"
     ]
    }
   ],
   "source": [
    "player, opponent = '0', 'x' \n",
    "\n",
    "# Driver code\n",
    "board = [ \n",
    "    [ '0', '_', 'x' ],  \n",
    "    [ '_', '0', '_' ],  \n",
    "    [ 'x', '_', 'x' ]  \n",
    "] \n",
    "\n",
    "move, score = get_best_move(board, player, opponent)\n",
    "\n",
    "print(\"Best move: {}.\".format(move))\n",
    "print(\"Move score: {}.\".format(score))"
   ]
  }
 ],
 "metadata": {
  "kernelspec": {
   "display_name": "PSS",
   "language": "python",
   "name": "python3"
  },
  "language_info": {
   "codemirror_mode": {
    "name": "ipython",
    "version": 3
   },
   "file_extension": ".py",
   "mimetype": "text/x-python",
   "name": "python",
   "nbconvert_exporter": "python",
   "pygments_lexer": "ipython3",
   "version": "3.11.8"
  }
 },
 "nbformat": 4,
 "nbformat_minor": 2
}
